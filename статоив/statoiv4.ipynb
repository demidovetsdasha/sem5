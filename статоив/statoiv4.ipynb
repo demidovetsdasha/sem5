{
 "cells": [
  {
   "cell_type": "markdown",
   "id": "0ad009dd",
   "metadata": {},
   "source": [
    "Лабораторная работа 4"
   ]
  },
  {
   "cell_type": "code",
   "execution_count": 1,
   "id": "f3b68599-ad12-450b-94b4-5e6db13780c7",
   "metadata": {},
   "outputs": [],
   "source": [
    "import numpy as np\n",
    "import pandas as pd\n",
    "import matplotlib.pyplot as plt\n",
    "import seaborn as sns\n",
    "from sklearn.cluster import KMeans\n",
    "\n",
    "PATH = \"pokemon.csv\"\n",
    "\n",
    "dataset = pd.read_csv(PATH)"
   ]
  },
  {
   "cell_type": "code",
   "execution_count": 2,
   "id": "533af107-92d1-4a24-ad30-4b4a037493d6",
   "metadata": {},
   "outputs": [],
   "source": [
    "TYPES = [\"Grass\", \"Fire\"]\n",
    "COLUMNS_FOR_FACTORISATION = [\"type1\", \"type2\"]\n",
    "NUMERIC_COLUMNS = [\"total\", \"hp\", \"attack\", \"defense\", \"sp_attack\", \"sp_defense\", \"speed\"]\n",
    "NONE_REPLACEMENT = {\n",
    "    \"type2\": \"None\"\n",
    "}"
   ]
  },
  {
   "cell_type": "code",
   "execution_count": 3,
   "id": "a42fc910-7aab-4557-9609-850a40af34d1",
   "metadata": {},
   "outputs": [],
   "source": [
    "filtered_data = dataset.loc[dataset['type1'].isin(TYPES)]\n",
    "\n",
    "\n",
    "filtered_data = filtered_data[\n",
    "    [\"name\", \"type1\", \"type2\", \"total\", \"hp\", \"attack\", \"defense\", \"sp_attack\", \"sp_defense\", \"speed\"]\n",
    "]"
   ]
  },
  {
   "cell_type": "code",
   "execution_count": 4,
   "id": "d1198d82-934c-4f8c-9912-ef98a96d5ba3",
   "metadata": {},
   "outputs": [],
   "source": [
    "for column, replacement in NONE_REPLACEMENT.items():\n",
    "    filtered_data[column] = filtered_data[column].fillna(replacement)\n",
    "\n",
    "\n",
    "factorization_table = {}\n",
    "for column in COLUMNS_FOR_FACTORISATION:\n",
    "    filtered_data[column], table = pd.factorize(filtered_data[column])\n",
    "    factorization_table[column] = pd.DataFrame({column: table})\n",
    "\n",
    "\n",
    "for column in NUMERIC_COLUMNS:\n",
    "    filtered_data[column] = pd.to_numeric(filtered_data[column])\n",
    "\n",
    "\n",
    "filtered_data.index = range(len(filtered_data))"
   ]
  },
  {
   "cell_type": "code",
   "execution_count": 5,
   "id": "355de55c-c6cc-476e-93c4-cc3a01b554e6",
   "metadata": {},
   "outputs": [
    {
     "name": "stderr",
     "output_type": "stream",
     "text": [
      "D:\\Anaconda\\Lib\\site-packages\\sklearn\\cluster\\_kmeans.py:1429: UserWarning: KMeans is known to have a memory leak on Windows with MKL, when there are less chunks than available threads. You can avoid it by setting the environment variable OMP_NUM_THREADS=1.\n",
      "  warnings.warn(\n",
      "D:\\Anaconda\\Lib\\site-packages\\sklearn\\cluster\\_kmeans.py:1429: UserWarning: KMeans is known to have a memory leak on Windows with MKL, when there are less chunks than available threads. You can avoid it by setting the environment variable OMP_NUM_THREADS=1.\n",
      "  warnings.warn(\n",
      "D:\\Anaconda\\Lib\\site-packages\\sklearn\\cluster\\_kmeans.py:1429: UserWarning: KMeans is known to have a memory leak on Windows with MKL, when there are less chunks than available threads. You can avoid it by setting the environment variable OMP_NUM_THREADS=1.\n",
      "  warnings.warn(\n",
      "D:\\Anaconda\\Lib\\site-packages\\sklearn\\cluster\\_kmeans.py:1429: UserWarning: KMeans is known to have a memory leak on Windows with MKL, when there are less chunks than available threads. You can avoid it by setting the environment variable OMP_NUM_THREADS=1.\n",
      "  warnings.warn(\n",
      "D:\\Anaconda\\Lib\\site-packages\\sklearn\\cluster\\_kmeans.py:1429: UserWarning: KMeans is known to have a memory leak on Windows with MKL, when there are less chunks than available threads. You can avoid it by setting the environment variable OMP_NUM_THREADS=1.\n",
      "  warnings.warn(\n",
      "D:\\Anaconda\\Lib\\site-packages\\sklearn\\cluster\\_kmeans.py:1429: UserWarning: KMeans is known to have a memory leak on Windows with MKL, when there are less chunks than available threads. You can avoid it by setting the environment variable OMP_NUM_THREADS=1.\n",
      "  warnings.warn(\n",
      "D:\\Anaconda\\Lib\\site-packages\\sklearn\\cluster\\_kmeans.py:1429: UserWarning: KMeans is known to have a memory leak on Windows with MKL, when there are less chunks than available threads. You can avoid it by setting the environment variable OMP_NUM_THREADS=1.\n",
      "  warnings.warn(\n",
      "D:\\Anaconda\\Lib\\site-packages\\sklearn\\cluster\\_kmeans.py:1429: UserWarning: KMeans is known to have a memory leak on Windows with MKL, when there are less chunks than available threads. You can avoid it by setting the environment variable OMP_NUM_THREADS=1.\n",
      "  warnings.warn(\n",
      "D:\\Anaconda\\Lib\\site-packages\\sklearn\\cluster\\_kmeans.py:1429: UserWarning: KMeans is known to have a memory leak on Windows with MKL, when there are less chunks than available threads. You can avoid it by setting the environment variable OMP_NUM_THREADS=1.\n",
      "  warnings.warn(\n",
      "D:\\Anaconda\\Lib\\site-packages\\sklearn\\cluster\\_kmeans.py:1429: UserWarning: KMeans is known to have a memory leak on Windows with MKL, when there are less chunks than available threads. You can avoid it by setting the environment variable OMP_NUM_THREADS=1.\n",
      "  warnings.warn(\n"
     ]
    },
    {
     "data": {
      "image/png": "[encoded data removed]",
      "text/plain": [
       "<Figure size 640x480 with 1 Axes>"
      ]
     },
     "metadata": {},
     "output_type": "display_data"
    }
   ],
   "source": [
    "\n",
    "inertia = []\n",
    "for i in range(1, 11):\n",
    "    k_means = KMeans(n_clusters=i, init='k-means++', random_state=42)\n",
    "    k_means.fit(filtered_data.drop(\"name\", axis=1))\n",
    "    inertia.append(k_means.inertia_)\n",
    "\n",
    "\n",
    "sns.set_style('darkgrid')\n",
    "sns.scatterplot(x=[x for x in range(1, 11)], y=inertia)\n",
    "plt.title('График зависимости числа кластеров и суммы расстояний')\n",
    "plt.xlabel('Количество кластеров')\n",
    "plt.ylabel('Внутри-кластерная сумма расстояний')\n",
    "plt.show()"
   ]
  },
  {
   "cell_type": "code",
   "execution_count": 6,
   "id": "c6330f33-e274-4ab9-b1cb-02463243677f",
   "metadata": {},
   "outputs": [
    {
     "name": "stdout",
     "output_type": "stream",
     "text": [
      "      type1     type2       total         hp      attack    defense  \\\n",
      "0  0.333333  3.222222  482.750000  77.638889   90.222222  78.416667   \n",
      "1  0.312500  2.520833  297.937500  48.791667   51.750000  48.833333   \n",
      "2  0.530612  4.387755  556.816327  85.510204  106.755102  87.714286   \n",
      "3  0.500000  2.714286  406.285714  62.035714   71.178571  67.464286   \n",
      "\n",
      "    sp_attack  sp_defense      speed  Amount  \n",
      "0   88.666667   77.500000  70.305556      36  \n",
      "1   52.187500   50.770833  45.604167      48  \n",
      "2  104.224490   87.775510  84.836735      49  \n",
      "3   75.035714   65.750000  64.821429      28  \n"
     ]
    },
    {
     "name": "stderr",
     "output_type": "stream",
     "text": [
      "D:\\Anaconda\\Lib\\site-packages\\sklearn\\cluster\\_kmeans.py:1429: UserWarning: KMeans is known to have a memory leak on Windows with MKL, when there are less chunks than available threads. You can avoid it by setting the environment variable OMP_NUM_THREADS=1.\n",
      "  warnings.warn(\n"
     ]
    }
   ],
   "source": [
    "CLUSTERS = 4\n",
    "\n",
    "model = KMeans(n_clusters=CLUSTERS, random_state=42)\n",
    "model.fit(filtered_data.drop(\"name\", axis=1))\n",
    "\n",
    "clusters = pd.DataFrame(\n",
    "    columns=filtered_data.columns.drop(\"name\"),\n",
    "    data=model.cluster_centers_\n",
    ")\n",
    "\n",
    "clusters[\"Amount\"] = np.unique(model.labels_, return_counts=True)[1]\n",
    "\n",
    "print(clusters)"
   ]
  },
  {
   "cell_type": "code",
   "execution_count": 7,
   "id": "8b314311-38fa-4711-bc7c-e725413f1d5e",
   "metadata": {},
   "outputs": [
    {
     "name": "stdout",
     "output_type": "stream",
     "text": [
      "Таблица факторизации для 'type1':\n",
      "   type1\n",
      "0  Grass\n",
      "1   Fire\n",
      "\n",
      "Таблица факторизации для 'type2':\n",
      "       type2\n",
      "0     Poison\n",
      "1       None\n",
      "2     Flying\n",
      "3     Dragon\n",
      "4    Psychic\n",
      "5      Ghost\n",
      "6       Rock\n",
      "7   Fighting\n",
      "8       Dark\n",
      "9     Ground\n",
      "10       Ice\n",
      "11     Steel\n",
      "12     Fairy\n",
      "13    Normal\n",
      "14     Water\n",
      "15       Bug\n"
     ]
    }
   ],
   "source": [
    "print(\"Таблица факторизации для 'type1':\")\n",
    "print(factorization_table[\"type1\"])\n",
    "\n",
    "print(\"\\nТаблица факторизации для 'type2':\")\n",
    "print(factorization_table[\"type2\"])\n"
   ]
  },
  {
   "cell_type": "code",
   "execution_count": null,
   "id": "a9f8ffd0-9fe7-47ac-a2d4-da9409c47ec4",
   "metadata": {},
   "outputs": [],
   "source": []
  }
 ],
 "metadata": {
  "kernelspec": {
   "display_name": "Python 3 (ipykernel)",
   "language": "python",
   "name": "python3"
  },
  "language_info": {
   "codemirror_mode": {
    "name": "ipython",
    "version": 3
   },
   "file_extension": ".py",
   "mimetype": "text/x-python",
   "name": "python",
   "nbconvert_exporter": "python",
   "pygments_lexer": "ipython3",
   "version": "3.12.7"
  }
 },
 "nbformat": 4,
 "nbformat_minor": 5
}
